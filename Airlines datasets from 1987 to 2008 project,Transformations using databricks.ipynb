{
 "cells": [
  {
   "cell_type": "code",
   "execution_count": 0,
   "metadata": {
    "application/vnd.databricks.v1+cell": {
     "cellMetadata": {},
     "inputWidgets": {},
     "nuid": "936403cd-ea6e-40b3-8421-62ec1fcf595c",
     "showTitle": false,
     "title": ""
    }
   },
   "outputs": [],
   "source": [
    "from pyspark.sql.functions import *\n",
    "from pyspark.sql.types import *"
   ]
  },
  {
   "cell_type": "code",
   "execution_count": 0,
   "metadata": {
    "application/vnd.databricks.v1+cell": {
     "cellMetadata": {},
     "inputWidgets": {},
     "nuid": "0776537c-baad-4f9c-861b-740d63e6de90",
     "showTitle": false,
     "title": ""
    }
   },
   "outputs": [],
   "source": [
    "%fs ls"
   ]
  },
  {
   "cell_type": "code",
   "execution_count": 0,
   "metadata": {
    "application/vnd.databricks.v1+cell": {
     "cellMetadata": {},
     "inputWidgets": {},
     "nuid": "51451e63-87fb-4f10-8ce3-ab97a5601f45",
     "showTitle": false,
     "title": ""
    }
   },
   "outputs": [],
   "source": [
    "%fs ls dbfs:/databricks-datasets/asa/"
   ]
  },
  {
   "cell_type": "markdown",
   "metadata": {
    "application/vnd.databricks.v1+cell": {
     "cellMetadata": {},
     "inputWidgets": {},
     "nuid": "60b878bc-e759-475b-90dc-f8a6fe63e711",
     "showTitle": false,
     "title": ""
    }
   },
   "source": [
    "1. Creating a dataframe using airlines csv datasets."
   ]
  },
  {
   "cell_type": "code",
   "execution_count": 0,
   "metadata": {
    "application/vnd.databricks.v1+cell": {
     "cellMetadata": {},
     "inputWidgets": {},
     "nuid": "f4ddf74f-5c01-48bc-a9fc-1a9dc844772e",
     "showTitle": false,
     "title": ""
    }
   },
   "outputs": [],
   "source": [
    "df=spark.read.option(\"header\",True).csv(\"dbfs:/databricks-datasets/asa/airlines/*\")"
   ]
  },
  {
   "cell_type": "markdown",
   "metadata": {
    "application/vnd.databricks.v1+cell": {
     "cellMetadata": {},
     "inputWidgets": {},
     "nuid": "7c423f82-b34a-4332-943a-eaecae485fc2",
     "showTitle": false,
     "title": ""
    }
   },
   "source": [
    "Displaying the newly create Dataframe"
   ]
  },
  {
   "cell_type": "code",
   "execution_count": 0,
   "metadata": {
    "application/vnd.databricks.v1+cell": {
     "cellMetadata": {},
     "inputWidgets": {},
     "nuid": "cc359914-c99c-4605-88d3-44a9e796398f",
     "showTitle": false,
     "title": ""
    }
   },
   "outputs": [],
   "source": [
    "df.display()"
   ]
  },
  {
   "cell_type": "markdown",
   "metadata": {
    "application/vnd.databricks.v1+cell": {
     "cellMetadata": {},
     "inputWidgets": {},
     "nuid": "00171aa5-9fb6-4da3-8bd4-536537e5bbfc",
     "showTitle": false,
     "title": ""
    }
   },
   "source": [
    "2. Showing only 3 columns from the dataframe"
   ]
  },
  {
   "cell_type": "code",
   "execution_count": 0,
   "metadata": {
    "application/vnd.databricks.v1+cell": {
     "cellMetadata": {},
     "inputWidgets": {},
     "nuid": "f57e85be-e2d2-4fdf-bb32-a073020f9d93",
     "showTitle": false,
     "title": ""
    }
   },
   "outputs": [],
   "source": [
    "df.select(\"FlightNum\",\"ActualElapsedTime\",\"CRSElapsedTime\").display()"
   ]
  },
  {
   "cell_type": "code",
   "execution_count": 0,
   "metadata": {
    "application/vnd.databricks.v1+cell": {
     "cellMetadata": {},
     "inputWidgets": {},
     "nuid": "b523e6cb-ceca-47dc-a22d-03196033acaa",
     "showTitle": false,
     "title": ""
    }
   },
   "outputs": [],
   "source": [
    "df.select(\"Origin\",\"Dest\",\"Distance\").display()"
   ]
  },
  {
   "cell_type": "markdown",
   "metadata": {
    "application/vnd.databricks.v1+cell": {
     "cellMetadata": {},
     "inputWidgets": {},
     "nuid": "acd1f005-d7a0-40b2-bd9f-c8d7cdafe500",
     "showTitle": false,
     "title": ""
    }
   },
   "source": [
    "3. Showing all the columns and their respective data types from Dataframe."
   ]
  },
  {
   "cell_type": "code",
   "execution_count": 0,
   "metadata": {
    "application/vnd.databricks.v1+cell": {
     "cellMetadata": {},
     "inputWidgets": {},
     "nuid": "c1bc2acf-9e7a-4184-8852-4919a02e749f",
     "showTitle": false,
     "title": ""
    }
   },
   "outputs": [],
   "source": [
    "df.printSchema()"
   ]
  },
  {
   "cell_type": "markdown",
   "metadata": {
    "application/vnd.databricks.v1+cell": {
     "cellMetadata": {},
     "inputWidgets": {},
     "nuid": "efb3e3e7-127e-45f4-a4a2-116d615d4a33",
     "showTitle": false,
     "title": ""
    }
   },
   "source": [
    "4.Creating a new dataframe with proper datatypes for different columns"
   ]
  },
  {
   "cell_type": "code",
   "execution_count": 0,
   "metadata": {
    "application/vnd.databricks.v1+cell": {
     "cellMetadata": {},
     "inputWidgets": {},
     "nuid": "4d19ea3c-3688-4cdd-be5c-f71348574adb",
     "showTitle": false,
     "title": ""
    }
   },
   "outputs": [],
   "source": [
    "n_df = spark.read.format(\"csv\").option(\"inferSchema\", True).option(\"header\", True).load(\"dbfs:/databricks-datasets/asa/airlines/*\")"
   ]
  },
  {
   "cell_type": "markdown",
   "metadata": {
    "application/vnd.databricks.v1+cell": {
     "cellMetadata": {},
     "inputWidgets": {},
     "nuid": "a6116d87-451f-4c37-9acc-234c45742ce4",
     "showTitle": false,
     "title": ""
    }
   },
   "source": [
    " Showing all the columns and their respective data types from  the new Dataframe."
   ]
  },
  {
   "cell_type": "code",
   "execution_count": 0,
   "metadata": {
    "application/vnd.databricks.v1+cell": {
     "cellMetadata": {},
     "inputWidgets": {},
     "nuid": "ddedefb0-71dc-4a2d-aab8-f6259630f020",
     "showTitle": false,
     "title": ""
    }
   },
   "outputs": [],
   "source": [
    "n_df.printSchema()"
   ]
  },
  {
   "cell_type": "markdown",
   "metadata": {
    "application/vnd.databricks.v1+cell": {
     "cellMetadata": {},
     "inputWidgets": {},
     "nuid": "c9886723-6353-4a3e-b93a-0ab7df107f5b",
     "showTitle": false,
     "title": ""
    }
   },
   "source": [
    "5. Rename few columns and then display"
   ]
  },
  {
   "cell_type": "code",
   "execution_count": 0,
   "metadata": {
    "application/vnd.databricks.v1+cell": {
     "cellMetadata": {},
     "inputWidgets": {},
     "nuid": "afb5a706-30aa-4c24-896c-0b018a525484",
     "showTitle": false,
     "title": ""
    }
   },
   "outputs": [],
   "source": [
    "nw_df=n_df.withColumnRenamed(\"DepTime\", \"departure_time\").withColumnRenamed(\"DayOfWeek\", \"weekday\")"
   ]
  },
  {
   "cell_type": "code",
   "execution_count": 0,
   "metadata": {
    "application/vnd.databricks.v1+cell": {
     "cellMetadata": {},
     "inputWidgets": {},
     "nuid": "8dd8bc3d-ca02-46bd-b44b-9b99c26d9ba5",
     "showTitle": false,
     "title": ""
    }
   },
   "outputs": [],
   "source": [
    "nw_df.display()"
   ]
  },
  {
   "cell_type": "markdown",
   "metadata": {
    "application/vnd.databricks.v1+cell": {
     "cellMetadata": {},
     "inputWidgets": {},
     "nuid": "3b176f94-bce4-4415-a200-f15a02d152ba",
     "showTitle": false,
     "title": ""
    }
   },
   "source": [
    "6.  Create a new dataframe excluding dropped column DayofMonth"
   ]
  },
  {
   "cell_type": "code",
   "execution_count": 0,
   "metadata": {
    "application/vnd.databricks.v1+cell": {
     "cellMetadata": {},
     "inputWidgets": {},
     "nuid": "81dfa2c1-20e0-42f0-af38-8c4a9f01033b",
     "showTitle": false,
     "title": ""
    }
   },
   "outputs": [],
   "source": [
    "new_df = nw_df.drop(\"DayofMonth\")"
   ]
  },
  {
   "cell_type": "code",
   "execution_count": 0,
   "metadata": {
    "application/vnd.databricks.v1+cell": {
     "cellMetadata": {},
     "inputWidgets": {},
     "nuid": "b574b11f-d721-4339-b16b-253ab84e88d4",
     "showTitle": false,
     "title": ""
    }
   },
   "outputs": [],
   "source": [
    "new_df.display()"
   ]
  },
  {
   "cell_type": "markdown",
   "metadata": {
    "application/vnd.databricks.v1+cell": {
     "cellMetadata": {},
     "inputWidgets": {},
     "nuid": "f3b59383-9e20-47d4-a6b5-5d3bcb7a4604",
     "showTitle": false,
     "title": ""
    }
   },
   "source": [
    "7. Adding a new column named \"weekand\" and adding value to it.If it is saturday or sunday then 1 otherwise 0"
   ]
  },
  {
   "cell_type": "code",
   "execution_count": 0,
   "metadata": {
    "application/vnd.databricks.v1+cell": {
     "cellMetadata": {},
     "inputWidgets": {},
     "nuid": "ae8c9ca9-c21c-4175-a884-54d4b9a0dfe8",
     "showTitle": false,
     "title": ""
    }
   },
   "outputs": [],
   "source": [
    "new_df = new_df.withColumn(\"Weekend\", when((col(\"weekday\") == 6) |(col(\"weekday\") == 7), 1).otherwise(0))\n",
    "# n_df = n_df.withColumn(\"Weekend\", when(col(\"weekday\").isin(6, 7), 1).otherwise(0))-----Another method of doing it."
   ]
  },
  {
   "cell_type": "code",
   "execution_count": 0,
   "metadata": {
    "application/vnd.databricks.v1+cell": {
     "cellMetadata": {},
     "inputWidgets": {},
     "nuid": "6d6c8cbc-7025-43a1-a6ea-2567354a0ef9",
     "showTitle": false,
     "title": ""
    }
   },
   "outputs": [],
   "source": [
    "new_df.display()"
   ]
  },
  {
   "cell_type": "markdown",
   "metadata": {
    "application/vnd.databricks.v1+cell": {
     "cellMetadata": {},
     "inputWidgets": {},
     "nuid": "67dbdc4c-a48c-40dd-aa4c-ea6a9ebda526",
     "showTitle": false,
     "title": ""
    }
   },
   "source": [
    "8. Cast \"ActualElapsedTime\" column to integer and use printSchema to verify"
   ]
  },
  {
   "cell_type": "code",
   "execution_count": 0,
   "metadata": {
    "application/vnd.databricks.v1+cell": {
     "cellMetadata": {},
     "inputWidgets": {},
     "nuid": "6b9045a0-6a7b-4bed-bf94-2b3c9962e72a",
     "showTitle": false,
     "title": ""
    }
   },
   "outputs": [],
   "source": [
    "new_df.withColumn(\"ActualElapsedTime\",new_df.ActualElapsedTime.cast(IntegerType())).printSchema()"
   ]
  },
  {
   "cell_type": "markdown",
   "metadata": {
    "application/vnd.databricks.v1+cell": {
     "cellMetadata": {},
     "inputWidgets": {},
     "nuid": "127ce2a4-735c-43c8-a235-d7c04eb046ca",
     "showTitle": false,
     "title": ""
    }
   },
   "source": [
    "9. Drop duplicate rows based on Year and Month and create new df."
   ]
  },
  {
   "cell_type": "code",
   "execution_count": 0,
   "metadata": {
    "application/vnd.databricks.v1+cell": {
     "cellMetadata": {},
     "inputWidgets": {},
     "nuid": "97610337-c338-4787-bb91-681380891dd8",
     "showTitle": false,
     "title": ""
    }
   },
   "outputs": [],
   "source": [
    "new_df=new_df.dropDuplicates([\"Year\",\"Month\"])"
   ]
  },
  {
   "cell_type": "code",
   "execution_count": 0,
   "metadata": {
    "application/vnd.databricks.v1+cell": {
     "cellMetadata": {},
     "inputWidgets": {},
     "nuid": "c01ffbe5-6523-4bcd-bfc5-f1aad9962e80",
     "showTitle": false,
     "title": ""
    }
   },
   "outputs": [],
   "source": [
    "new_df.display()"
   ]
  },
  {
   "cell_type": "markdown",
   "metadata": {
    "application/vnd.databricks.v1+cell": {
     "cellMetadata": {},
     "inputWidgets": {},
     "nuid": "2f109732-d905-4e14-bdd4-fab6e7c1835c",
     "showTitle": false,
     "title": ""
    }
   },
   "source": [
    "10. Filtering Data with 'where' method"
   ]
  },
  {
   "cell_type": "code",
   "execution_count": 0,
   "metadata": {
    "application/vnd.databricks.v1+cell": {
     "cellMetadata": {},
     "inputWidgets": {},
     "nuid": "ea806d19-4a73-46b3-8214-b69b90242127",
     "showTitle": false,
     "title": ""
    }
   },
   "outputs": [],
   "source": [
    "new_df.select('*').where(col(\"year\")==2001).display()"
   ]
  },
  {
   "cell_type": "code",
   "execution_count": 0,
   "metadata": {
    "application/vnd.databricks.v1+cell": {
     "cellMetadata": {},
     "inputWidgets": {},
     "nuid": "9a8ae265-ad6a-44d0-9da6-c7e4b9caf777",
     "showTitle": false,
     "title": ""
    }
   },
   "outputs": [],
   "source": [
    "new_df.where((col(\"DepTime\") > 2000) & (col(\"ArrTime\") >2000)).display()"
   ]
  },
  {
   "cell_type": "markdown",
   "metadata": {
    "application/vnd.databricks.v1+cell": {
     "cellMetadata": {},
     "inputWidgets": {},
     "nuid": "e1e0bb7d-26df-4903-bbb2-e0f37e23492f",
     "showTitle": false,
     "title": ""
    }
   },
   "source": [
    "11.  Group Data according to 'Origin' and count"
   ]
  },
  {
   "cell_type": "code",
   "execution_count": 0,
   "metadata": {
    "application/vnd.databricks.v1+cell": {
     "cellMetadata": {},
     "inputWidgets": {},
     "nuid": "5badca51-d1f4-48a6-b759-6f7abb1c7c05",
     "showTitle": false,
     "title": ""
    }
   },
   "outputs": [],
   "source": [
    "new_df.groupBy(\"Origin\").count().display()"
   ]
  },
  {
   "cell_type": "markdown",
   "metadata": {
    "application/vnd.databricks.v1+cell": {
     "cellMetadata": {},
     "inputWidgets": {},
     "nuid": "893a5349-e0ee-4b83-945e-ea4e34196893",
     "showTitle": false,
     "title": ""
    }
   },
   "source": [
    "12.Sort the data by 'Year' in descending order"
   ]
  },
  {
   "cell_type": "code",
   "execution_count": 0,
   "metadata": {
    "application/vnd.databricks.v1+cell": {
     "cellMetadata": {},
     "inputWidgets": {},
     "nuid": "ca242c92-d9f2-463c-830f-6da1b7d24090",
     "showTitle": false,
     "title": ""
    }
   },
   "outputs": [],
   "source": [
    "new_df.sort(desc(\"Year\")).display()"
   ]
  },
  {
   "cell_type": "markdown",
   "metadata": {
    "application/vnd.databricks.v1+cell": {
     "cellMetadata": {},
     "inputWidgets": {},
     "nuid": "fa5d635a-1eea-43ce-b829-e9185cb01de3",
     "showTitle": false,
     "title": ""
    }
   },
   "source": [
    "13. Write data in delta format"
   ]
  },
  {
   "cell_type": "code",
   "execution_count": 0,
   "metadata": {
    "application/vnd.databricks.v1+cell": {
     "cellMetadata": {},
     "inputWidgets": {},
     "nuid": "67280975-b549-4984-9caa-fbae37c9a032",
     "showTitle": false,
     "title": ""
    }
   },
   "outputs": [],
   "source": [
    "new_df.write.format(\"delta\").save(\"/mnt//FileStore/tables/\")"
   ]
  },
  {
   "cell_type": "code",
   "execution_count": 0,
   "metadata": {
    "application/vnd.databricks.v1+cell": {
     "cellMetadata": {},
     "inputWidgets": {},
     "nuid": "6aeb1cd4-1cc2-4481-8e19-1ba107ebfe9e",
     "showTitle": false,
     "title": ""
    }
   },
   "outputs": [],
   "source": []
  }
 ],
 "metadata": {
  "application/vnd.databricks.v1+notebook": {
   "dashboards": [],
   "language": "python",
   "notebookMetadata": {
    "pythonIndentUnit": 4
   },
   "notebookName": "Airlines datasets from 1987 to 2008 project,Transformations using databricks",
   "widgets": {}
  }
 },
 "nbformat": 4,
 "nbformat_minor": 0
}
